{
 "cells": [
  {
   "cell_type": "markdown",
   "metadata": {},
   "source": [
    "## Reporting: wragle_report\n",
    "* Create a **300-600 word written report** called \"wrangle_report.pdf\" or \"wrangle_report.html\" that briefly describes your wrangling efforts. This is to be framed as an internal document."
   ]
  },
  {
   "cell_type": "markdown",
   "metadata": {},
   "source": [
    "* The task of collecting and organizing data from the WeRateDogs twitter handle was difficult and time-consuming but provided a great learning experience.\n",
    "* The unclean twitter_archives dataset was obtained through manual download.\n",
    "* The image_predictions tsv file was programmatically downloaded using the requests library.\n",
    "* The most challenging part was gathering data from the twitter API using the tweepy library and unique keys.\n",
    "* Quality and tidiness issues were assessed and cleaned in all three datasets, with the twitter archives table having the most issues.\n",
    "* The final part of the project was code-oriented cleaning using pandas functions, and involved removing unwanted rows and columns.\n",
    "* Overall, the project helped improve data wrangling skills and develop an intuition for combining functions to perform complex tasks."
   ]
  },
  {
   "cell_type": "code",
   "execution_count": null,
   "metadata": {},
   "outputs": [],
   "source": []
  }
 ],
 "metadata": {
  "kernelspec": {
   "display_name": "Python 3 (ipykernel)",
   "language": "python",
   "name": "python3"
  },
  "language_info": {
   "codemirror_mode": {
    "name": "ipython",
    "version": 3
   },
   "file_extension": ".py",
   "mimetype": "text/x-python",
   "name": "python",
   "nbconvert_exporter": "python",
   "pygments_lexer": "ipython3",
   "version": "3.9.12"
  },
  "toc": {
   "base_numbering": 1,
   "nav_menu": {},
   "number_sections": true,
   "sideBar": true,
   "skip_h1_title": false,
   "title_cell": "Table of Contents",
   "title_sidebar": "Contents",
   "toc_cell": false,
   "toc_position": {},
   "toc_section_display": true,
   "toc_window_display": false
  }
 },
 "nbformat": 4,
 "nbformat_minor": 2
}
